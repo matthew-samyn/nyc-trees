{
 "cells": [
  {
   "cell_type": "markdown",
   "metadata": {
    "collapsed": true,
    "pycharm": {
     "name": "#%% md\n"
    }
   },
   "source": [
    "#### Importing packages"
   ]
  },
  {
   "cell_type": "code",
   "source": [
    "import pandas as pd\n",
    "import seaborn as sns"
   ],
   "metadata": {
    "collapsed": false,
    "pycharm": {
     "name": "#%%\n"
    }
   },
   "execution_count": 308,
   "outputs": []
  },
  {
   "cell_type": "markdown",
   "source": [
    "#### Creating Dataframe"
   ],
   "metadata": {
    "collapsed": false
   }
  },
  {
   "cell_type": "code",
   "execution_count": 309,
   "outputs": [
    {
     "name": "stdout",
     "output_type": "stream",
     "text": [
      "created_at       0\n",
      "tree_id          0\n",
      "block_id         0\n",
      "the_geom         0\n",
      "tree_dbh         0\n",
      "stump_diam       0\n",
      "curb_loc         0\n",
      "status           0\n",
      "health        4993\n",
      "spc_latin     4992\n",
      "spc_common    4992\n",
      "steward       4992\n",
      "guards        4992\n",
      "sidewalk      4992\n",
      "user_type        0\n",
      "problems      4992\n",
      "root_stone       0\n",
      "root_grate       0\n",
      "root_other       0\n",
      "trnk_wire        0\n",
      "trnk_light       0\n",
      "trnk_other       0\n",
      "brnch_ligh       0\n",
      "brnch_shoe       0\n",
      "brnch_othe       0\n",
      "address          0\n",
      "zipcode          0\n",
      "zip_city         0\n",
      "cb_num           0\n",
      "borocode         0\n",
      "boroname         0\n",
      "cncldist         0\n",
      "st_assem         0\n",
      "st_senate        0\n",
      "nta              0\n",
      "nta_name         0\n",
      "boro_ct          0\n",
      "state            0\n",
      "latitude         0\n",
      "longitude        0\n",
      "x_sp             0\n",
      "y_sp             0\n",
      "dtype: int64\n",
      "created_at    datetime64[ns]\n",
      "tree_id                int64\n",
      "block_id               int64\n",
      "the_geom              object\n",
      "tree_dbh               int64\n",
      "stump_diam             int64\n",
      "curb_loc              object\n",
      "status                object\n",
      "health                object\n",
      "spc_latin             object\n",
      "spc_common            object\n",
      "steward               object\n",
      "guards                object\n",
      "sidewalk              object\n",
      "user_type             object\n",
      "problems              object\n",
      "root_stone            object\n",
      "root_grate            object\n",
      "root_other            object\n",
      "trnk_wire             object\n",
      "trnk_light            object\n",
      "trnk_other            object\n",
      "brnch_ligh            object\n",
      "brnch_shoe            object\n",
      "brnch_othe            object\n",
      "address               object\n",
      "zipcode                int64\n",
      "zip_city              object\n",
      "cb_num                 int64\n",
      "borocode               int64\n",
      "boroname              object\n",
      "cncldist               int64\n",
      "st_assem               int64\n",
      "st_senate              int64\n",
      "nta                   object\n",
      "nta_name              object\n",
      "boro_ct                int64\n",
      "state                 object\n",
      "latitude             float64\n",
      "longitude            float64\n",
      "x_sp                 float64\n",
      "y_sp                 float64\n",
      "dtype: object\n",
      "Index(['created_at', 'tree_id', 'block_id', 'the_geom', 'tree_dbh',\n",
      "       'stump_diam', 'curb_loc', 'status', 'health', 'spc_latin', 'spc_common',\n",
      "       'steward', 'guards', 'sidewalk', 'user_type', 'problems', 'root_stone',\n",
      "       'root_grate', 'root_other', 'trnk_wire', 'trnk_light', 'trnk_other',\n",
      "       'brnch_ligh', 'brnch_shoe', 'brnch_othe', 'address', 'zipcode',\n",
      "       'zip_city', 'cb_num', 'borocode', 'boroname', 'cncldist', 'st_assem',\n",
      "       'st_senate', 'nta', 'nta_name', 'boro_ct', 'state', 'latitude',\n",
      "       'longitude', 'x_sp', 'y_sp'],\n",
      "      dtype='object')\n"
     ]
    }
   ],
   "source": [
    "nyc_trees = pd.read_csv(\"original_data.csv\", parse_dates=[\"created_at\"])\n",
    "print(nyc_trees.isna().sum())\n",
    "print(nyc_trees.dtypes)\n",
    "print(nyc_trees.columns)"
   ],
   "metadata": {
    "collapsed": false,
    "pycharm": {
     "name": "#%%\n"
    }
   }
  },
  {
   "cell_type": "markdown",
   "source": [
    "#### Removing columns wich are useless for Machine Learning"
   ],
   "metadata": {
    "collapsed": false
   }
  },
  {
   "cell_type": "code",
   "execution_count": 310,
   "outputs": [
    {
     "data": {
      "text/plain": "'nyc_trees.drop(columns=[\"the_geom\", \"spc_common\", \"problems\", \"zip_city\", \"cb_num\",\"borocode\",\"boroname\",\"cncldist\",\"st_assem\",\"st_senate\",\"boro_ct\",\"state\"], axis=1, inplace=True)'"
     },
     "execution_count": 310,
     "metadata": {},
     "output_type": "execute_result"
    }
   ],
   "source": [
    "nyc_trees.drop(columns=[\"the_geom\", \"spc_common\", \"problems\", \"cb_num\",\"borocode\",\"boroname\",\"cncldist\",\"st_assem\",\"st_senate\",\"boro_ct\",\"state\"], axis=1, inplace=True)"
   ],
   "metadata": {
    "collapsed": false,
    "pycharm": {
     "name": "#%%\n"
    }
   }
  },
  {
   "cell_type": "markdown",
   "source": [
    "#### Checking out NaN's"
   ],
   "metadata": {
    "collapsed": false,
    "pycharm": {
     "name": "#%% md\n"
    }
   }
  },
  {
   "cell_type": "code",
   "execution_count": 356,
   "outputs": [],
   "source": [
    "nan = nyc_trees[nyc_trees[\"health\"].isna() == True]\n",
    "nan = nan.drop_duplicates([\"health\",\"spc_latin\"])\n"
   ],
   "metadata": {
    "collapsed": false,
    "pycharm": {
     "name": "#%%\n"
    }
   }
  },
  {
   "cell_type": "markdown",
   "source": [
    "### Exploring column by column\n",
    "#### tree_id"
   ],
   "metadata": {
    "collapsed": false,
    "pycharm": {
     "name": "#%% md\n"
    }
   }
  },
  {
   "cell_type": "code",
   "execution_count": 311,
   "outputs": [
    {
     "data": {
      "text/plain": "100000"
     },
     "execution_count": 311,
     "metadata": {},
     "output_type": "execute_result"
    }
   ],
   "source": [
    "len(nyc_trees.tree_id.unique())"
   ],
   "metadata": {
    "collapsed": false,
    "pycharm": {
     "name": "#%%\n"
    }
   }
  },
  {
   "cell_type": "markdown",
   "source": [
    "#### tree_dbh"
   ],
   "metadata": {
    "collapsed": false,
    "pycharm": {
     "name": "#%% md\n"
    }
   }
  },
  {
   "cell_type": "code",
   "execution_count": 313,
   "outputs": [
    {
     "data": {
      "text/plain": "<Figure size 432x288 with 1 Axes>",
      "image/png": "[encoded data removed]"
     },
     "metadata": {
      "needs_background": "light"
     },
     "output_type": "display_data"
    }
   ],
   "source": [
    "# Changing column name\n",
    "nyc_trees.rename(columns={\"tree_dbh\":\"tree_diam[inch]\",\"stump_diam\":\"stump_diam[inch]\"},inplace=True)\n",
    "\n",
    "# Outliers in column to None\n",
    "sns.stripplot(data=nyc_trees, x=\"curb_loc\", y=\"tree_diam[inch]\", jitter=True)\n",
    "tree_dbh_lst = nyc_trees[nyc_trees[\"tree_diam[inch]\"] >= 80].value_counts([\"tree_diam[inch]\"],ascending=False)\n",
    "nyc_trees.loc[tree_dbh_lst, \"tree_diam[inch]\"] = None\n",
    "\n"
   ],
   "metadata": {
    "collapsed": false,
    "pycharm": {
     "name": "#%%\n"
    }
   }
  },
  {
   "cell_type": "markdown",
   "source": [
    "#### Changing tree_diam and stump_diam columns.\n",
    "* If stump, remove from tree_diam, replace with None\n",
    "* If tree, remove value from stump_diam, replace with None"
   ],
   "metadata": {
    "collapsed": false,
    "pycharm": {
     "name": "#%% md\n"
    }
   }
  },
  {
   "cell_type": "code",
   "source": [
    "nyc_trees.status.value_counts()\n",
    "stumps_lst = nyc_trees[nyc_trees[\"status\"] == \"Stump\"].index\n",
    "alive_lst = nyc_trees[nyc_trees[\"status\"] == \"Alive\"].index\n",
    "nyc_trees.loc[stumps_lst, \"tree_diam[inch]\"] = None\n",
    "nyc_trees.loc[alive_lst, \"stump_diam[inch]\"] = None"
   ],
   "metadata": {
    "collapsed": false,
    "pycharm": {
     "name": "#%%\n"
    }
   },
   "execution_count": 314,
   "outputs": []
  },
  {
   "cell_type": "markdown",
   "source": [
    "#### curb_loc"
   ],
   "metadata": {
    "collapsed": false,
    "pycharm": {
     "name": "#%% md\n"
    }
   }
  },
  {
   "cell_type": "code",
   "execution_count": 315,
   "outputs": [
    {
     "data": {
      "text/plain": "OnCurb            96129\nOffsetFromCurb     3871\nName: curb_loc, dtype: int64"
     },
     "execution_count": 315,
     "metadata": {},
     "output_type": "execute_result"
    }
   ],
   "source": [
    "# Should contain 2 categories\n",
    "nyc_trees.curb_loc.value_counts()"
   ],
   "metadata": {
    "collapsed": false,
    "pycharm": {
     "name": "#%%\n"
    }
   }
  },
  {
   "cell_type": "markdown",
   "source": [
    "#### status"
   ],
   "metadata": {
    "collapsed": false,
    "pycharm": {
     "name": "#%% md\n"
    }
   }
  },
  {
   "cell_type": "code",
   "execution_count": 316,
   "outputs": [
    {
     "data": {
      "text/plain": "Alive    95008\nStump     2831\nDead      2161\nName: status, dtype: int64"
     },
     "execution_count": 316,
     "metadata": {},
     "output_type": "execute_result"
    }
   ],
   "source": [
    "# Should contain 3 categories\n",
    "nyc_trees.status.value_counts()\n"
   ],
   "metadata": {
    "collapsed": false,
    "pycharm": {
     "name": "#%%\n"
    }
   }
  },
  {
   "cell_type": "markdown",
   "source": [
    "#### health"
   ],
   "metadata": {
    "collapsed": false,
    "pycharm": {
     "name": "#%% md\n"
    }
   }
  },
  {
   "cell_type": "code",
   "execution_count": 317,
   "outputs": [
    {
     "data": {
      "text/plain": "Good    72340\nFair    17266\nPoor     5401\nName: health, dtype: int64"
     },
     "execution_count": 317,
     "metadata": {},
     "output_type": "execute_result"
    }
   ],
   "source": [
    "# Should contain 3 categories.\n",
    "nyc_trees[\"health\"].value_counts()\n"
   ],
   "metadata": {
    "collapsed": false,
    "pycharm": {
     "name": "#%%\n"
    }
   }
  },
  {
   "cell_type": "markdown",
   "source": [
    "#### spc_latin - spc_common"
   ],
   "metadata": {
    "collapsed": false,
    "pycharm": {
     "name": "#%% md\n"
    }
   }
  },
  {
   "cell_type": "code",
   "execution_count": 318,
   "outputs": [
    {
     "name": "stdout",
     "output_type": "stream",
     "text": [
      "Platanus x acerifolia                 11976\n",
      "Gleditsia triacanthos var. inermis    10648\n",
      "Pyrus calleryana                       8886\n",
      "Quercus palustris                      7748\n",
      "Acer platanoides                       5925\n",
      "                                      ...  \n",
      "Cedrus atlantica                          5\n",
      "Alnus glutinosa                           5\n",
      "Maclura pomifera                          4\n",
      "Pinus sylvestris                          3\n",
      "Pinus virginiana                          2\n",
      "Name: spc_latin, Length: 125, dtype: int64\n"
     ]
    }
   ],
   "source": [
    "# Checking if these columns always compare\n",
    "print(nyc_trees.spc_latin.value_counts())"
   ],
   "metadata": {
    "collapsed": false,
    "pycharm": {
     "name": "#%%\n"
    }
   }
  },
  {
   "cell_type": "markdown",
   "source": [
    "#### steward"
   ],
   "metadata": {
    "collapsed": false,
    "pycharm": {
     "name": "#%% md\n"
    }
   }
  },
  {
   "cell_type": "code",
   "execution_count": 319,
   "outputs": [
    {
     "name": "stdout",
     "output_type": "stream",
     "text": [
      "49764    None\n",
      "97593    None\n",
      "98792    1or2\n",
      "96333    None\n",
      "13022    1or2\n",
      "65329    None\n",
      "64730    None\n",
      "46183    None\n",
      "78518    None\n",
      "56473    None\n",
      "96511    None\n",
      "38344    1or2\n",
      "33186    1or2\n",
      "13227    None\n",
      "82312    1or2\n",
      "26123    None\n",
      "19222    None\n",
      "60375    1or2\n",
      "30125    None\n",
      "82281    1or2\n",
      "13984    1or2\n",
      "17523    None\n",
      "10834    None\n",
      "86805    1or2\n",
      "28164    None\n",
      "36872    None\n",
      "61859     NaN\n",
      "74742    1or2\n",
      "35585    None\n",
      "19754    None\n",
      "Name: steward, dtype: object\n",
      "31575    3.0\n",
      "3373     0.0\n",
      "16735    0.0\n",
      "9753     1.0\n",
      "51364    1.0\n",
      "98192    0.0\n",
      "3635     NaN\n",
      "59991    0.0\n",
      "51582    0.0\n",
      "54351    1.0\n",
      "64978    0.0\n",
      "48561    0.0\n",
      "28107    1.0\n",
      "27424    0.0\n",
      "41475    0.0\n",
      "80578    1.0\n",
      "33040    0.0\n",
      "57184    0.0\n",
      "20753    0.0\n",
      "56497    1.0\n",
      "43806    3.0\n",
      "29597    1.0\n",
      "31456    0.0\n",
      "78717    0.0\n",
      "28647    0.0\n",
      "82567    1.0\n",
      "49676    1.0\n",
      "65700    0.0\n",
      "59583    0.0\n",
      "2800     1.0\n",
      "Name: steward, dtype: float64\n"
     ]
    }
   ],
   "source": [
    "print(nyc_trees[\"steward\"].sample(30))\n",
    "\n",
    "# turning into int type\n",
    "def steward_int(word):\n",
    "    if word is None:\n",
    "        return None\n",
    "    elif word == \"None\":\n",
    "        return 0\n",
    "    elif type(word) == float:\n",
    "        return word\n",
    "    else:\n",
    "        return int(word[0])\n",
    "\n",
    "nyc_trees[\"steward\"] = nyc_trees[\"steward\"].apply(lambda x: steward_int(x))\n",
    "print(nyc_trees[\"steward\"].sample(30))"
   ],
   "metadata": {
    "collapsed": false,
    "pycharm": {
     "name": "#%%\n"
    }
   }
  },
  {
   "cell_type": "markdown",
   "source": [
    "#### guards"
   ],
   "metadata": {
    "collapsed": false
   }
  },
  {
   "cell_type": "code",
   "execution_count": 320,
   "outputs": [
    {
     "name": "stdout",
     "output_type": "stream",
     "text": [
      "None       78958\n",
      "Helpful    10244\n",
      "Harmful     4552\n",
      "Unsure      1254\n",
      "Name: guards, dtype: int64\n"
     ]
    }
   ],
   "source": [
    "print(nyc_trees[\"guards\"].value_counts())"
   ],
   "metadata": {
    "collapsed": false,
    "pycharm": {
     "name": "#%%\n"
    }
   }
  },
  {
   "cell_type": "code",
   "execution_count": 321,
   "outputs": [],
   "source": [
    "# Clean the None for Unsure\n",
    "def guards_cleaning(dead_or_alive:str, guards:str):\n",
    "    if guards == \"None\" and dead_or_alive == \"Alive\":\n",
    "        return \"Unsure\"\n",
    "    else:\n",
    "        return guards\n",
    "\n",
    "nyc_trees[\"guards\"] = nyc_trees.apply(lambda row: guards_cleaning(row[\"status\"],row[\"guards\"]), axis=1)\n"
   ],
   "metadata": {
    "collapsed": false,
    "pycharm": {
     "name": "#%%\n"
    }
   }
  },
  {
   "cell_type": "code",
   "execution_count": 322,
   "outputs": [
    {
     "name": "stdout",
     "output_type": "stream",
     "text": [
      "Index(['created_at', 'tree_id', 'block_id', 'the_geom', 'tree_diam[inch]',\n",
      "       'stump_diam[inch]', 'curb_loc', 'status', 'health', 'spc_latin',\n",
      "       'spc_common', 'steward', 'guards', 'sidewalk', 'user_type', 'problems',\n",
      "       'root_stone', 'root_grate', 'root_other', 'trnk_wire', 'trnk_light',\n",
      "       'trnk_other', 'brnch_ligh', 'brnch_shoe', 'brnch_othe', 'address',\n",
      "       'zipcode', 'zip_city', 'cb_num', 'borocode', 'boroname', 'cncldist',\n",
      "       'st_assem', 'st_senate', 'nta', 'nta_name', 'boro_ct', 'state',\n",
      "       'latitude', 'longitude', 'x_sp', 'y_sp'],\n",
      "      dtype='object')\n"
     ]
    }
   ],
   "source": [
    "print(nyc_trees.columns)\n"
   ],
   "metadata": {
    "collapsed": false,
    "pycharm": {
     "name": "#%%\n"
    }
   }
  },
  {
   "cell_type": "markdown",
   "source": [
    "#### sidewalk"
   ],
   "metadata": {
    "collapsed": false,
    "pycharm": {
     "name": "#%% md\n"
    }
   }
  },
  {
   "cell_type": "code",
   "execution_count": 323,
   "outputs": [
    {
     "data": {
      "text/plain": "False    70678\nTrue     29322\nName: sidewalk_damaged, dtype: int64"
     },
     "execution_count": 323,
     "metadata": {},
     "output_type": "execute_result"
    }
   ],
   "source": [
    "# Changing column name to sidewalk_damaged\n",
    "nyc_trees = nyc_trees.rename(columns={\"sidewalk\":\"sidewalk_damaged\"})\n",
    "\n",
    "# Changing values to boolean\n",
    "def sidewalk_bool(word):\n",
    "    if word == \"Damage\":\n",
    "        return True\n",
    "    else:\n",
    "        return False\n",
    "\n",
    "nyc_trees[\"sidewalk_damaged\"] = nyc_trees[\"sidewalk_damaged\"].apply(lambda x: sidewalk_bool(x))\n",
    "nyc_trees.sidewalk_damaged.value_counts()"
   ],
   "metadata": {
    "collapsed": false,
    "pycharm": {
     "name": "#%%\n"
    }
   }
  },
  {
   "cell_type": "markdown",
   "source": [
    "#### user_type"
   ],
   "metadata": {
    "collapsed": false,
    "pycharm": {
     "name": "#%% md\n"
    }
   }
  },
  {
   "cell_type": "code",
   "execution_count": 324,
   "outputs": [
    {
     "data": {
      "text/plain": "Volunteer           45924\nTreesCount Staff    37363\nNYC Parks Staff     16713\nName: user_type, dtype: int64"
     },
     "execution_count": 324,
     "metadata": {},
     "output_type": "execute_result"
    }
   ],
   "source": [
    "nyc_trees.user_type.value_counts()"
   ],
   "metadata": {
    "collapsed": false,
    "pycharm": {
     "name": "#%%\n"
    }
   }
  },
  {
   "cell_type": "markdown",
   "source": [
    "#### root_stone"
   ],
   "metadata": {
    "collapsed": false,
    "pycharm": {
     "name": "#%% md\n"
    }
   }
  },
  {
   "cell_type": "code",
   "execution_count": 325,
   "outputs": [],
   "source": [
    "# Function to change yes/no to True/False\n",
    "def yes_no_to_bool(yn:str):\n",
    "    yn = yn.lower()\n",
    "    if yn == \"yes\":\n",
    "        return True\n",
    "    elif yn == \"no\":\n",
    "        return False\n",
    "\n",
    "# Changing yes/no to boolean:\n",
    "nyc_trees.root_stone = nyc_trees.root_stone.apply(lambda x: yes_no_to_bool(x))"
   ],
   "metadata": {
    "collapsed": false,
    "pycharm": {
     "name": "#%%\n"
    }
   }
  },
  {
   "cell_type": "markdown",
   "source": [
    "#### root_grate"
   ],
   "metadata": {
    "collapsed": false,
    "pycharm": {
     "name": "#%% md\n"
    }
   }
  },
  {
   "cell_type": "code",
   "execution_count": 326,
   "outputs": [],
   "source": [
    "# Changing yes/no to boolean:\n",
    "nyc_trees.root_grate = nyc_trees.root_grate.apply(lambda x: yes_no_to_bool(x))"
   ],
   "metadata": {
    "collapsed": false,
    "pycharm": {
     "name": "#%%\n"
    }
   }
  },
  {
   "cell_type": "markdown",
   "source": [
    "#### root_other\n"
   ],
   "metadata": {
    "collapsed": false,
    "pycharm": {
     "name": "#%% md\n"
    }
   }
  },
  {
   "cell_type": "code",
   "execution_count": 327,
   "outputs": [],
   "source": [
    "# Changing yes/no to boolean:\n",
    "nyc_trees.root_other = nyc_trees.root_other.apply(lambda x: yes_no_to_bool(x))"
   ],
   "metadata": {
    "collapsed": false,
    "pycharm": {
     "name": "#%%\n"
    }
   }
  },
  {
   "cell_type": "markdown",
   "source": [
    "#### Changing columns names: all trnk_ columns with trunk_"
   ],
   "metadata": {
    "collapsed": false,
    "pycharm": {
     "name": "#%% md\n"
    }
   }
  },
  {
   "cell_type": "code",
   "execution_count": 328,
   "outputs": [],
   "source": [
    "nyc_trees = nyc_trees.rename(columns={\"trnk_wire\":\"trunk_wire\", \"trnk_light\":\"trunk_light\",\"trnk_other\":\"trunk_other\"})"
   ],
   "metadata": {
    "collapsed": false,
    "pycharm": {
     "name": "#%%\n"
    }
   }
  },
  {
   "cell_type": "markdown",
   "source": [
    "#### trunk_wire"
   ],
   "metadata": {
    "collapsed": false,
    "pycharm": {
     "name": "#%% md\n"
    }
   }
  },
  {
   "cell_type": "code",
   "execution_count": 329,
   "outputs": [],
   "source": [
    "# Changing yes/no to boolean:\n",
    "nyc_trees.trunk_wire = nyc_trees.trunk_wire.apply(lambda x: yes_no_to_bool(x))"
   ],
   "metadata": {
    "collapsed": false,
    "pycharm": {
     "name": "#%%\n"
    }
   }
  },
  {
   "cell_type": "markdown",
   "source": [
    "#### trunk_light"
   ],
   "metadata": {
    "collapsed": false,
    "pycharm": {
     "name": "#%% md\n"
    }
   }
  },
  {
   "cell_type": "code",
   "execution_count": 330,
   "outputs": [],
   "source": [
    "# Changing yes/no to boolean:\n",
    "nyc_trees.trunk_light = nyc_trees.trunk_light.apply(lambda x: yes_no_to_bool(x))"
   ],
   "metadata": {
    "collapsed": false,
    "pycharm": {
     "name": "#%%\n"
    }
   }
  },
  {
   "cell_type": "markdown",
   "source": [
    "#### trunk_other"
   ],
   "metadata": {
    "collapsed": false,
    "pycharm": {
     "name": "#%% md\n"
    }
   }
  },
  {
   "cell_type": "code",
   "execution_count": 331,
   "outputs": [],
   "source": [
    "# Changing yes/no to boolean:\n",
    "nyc_trees.trunk_other = nyc_trees.trunk_other.apply(lambda x: yes_no_to_bool(x))"
   ],
   "metadata": {
    "collapsed": false,
    "pycharm": {
     "name": "#%%\n"
    }
   }
  },
  {
   "cell_type": "markdown",
   "source": [
    "#### Changing columns names: all trnk_ columns with trunk_"
   ],
   "metadata": {
    "collapsed": false,
    "pycharm": {
     "name": "#%% md\n"
    }
   }
  },
  {
   "cell_type": "code",
   "execution_count": 332,
   "outputs": [],
   "source": [
    "nyc_trees = nyc_trees.rename(columns={\"brnch_ligh\":\"branch_light\",\"brnch_shoe\":\"branch_shoe\",\"brnch_othe\":\"branch_other\"})"
   ],
   "metadata": {
    "collapsed": false,
    "pycharm": {
     "name": "#%%\n"
    }
   }
  },
  {
   "cell_type": "markdown",
   "source": [
    "#### branch_light"
   ],
   "metadata": {
    "collapsed": false,
    "pycharm": {
     "name": "#%% md\n"
    }
   }
  },
  {
   "cell_type": "code",
   "execution_count": 333,
   "outputs": [],
   "source": [
    "# Changing yes/no to boolean:\n",
    "nyc_trees.branch_light = nyc_trees.branch_light.apply(lambda x: yes_no_to_bool(x))"
   ],
   "metadata": {
    "collapsed": false,
    "pycharm": {
     "name": "#%%\n"
    }
   }
  },
  {
   "cell_type": "markdown",
   "source": [
    "#### branch_shoe"
   ],
   "metadata": {
    "collapsed": false,
    "pycharm": {
     "name": "#%% md\n"
    }
   }
  },
  {
   "cell_type": "code",
   "execution_count": 334,
   "outputs": [],
   "source": [
    "# Changing yes/no to boolean:\n",
    "nyc_trees.branch_shoe = nyc_trees.branch_shoe.apply(lambda x: yes_no_to_bool(x))"
   ],
   "metadata": {
    "collapsed": false,
    "pycharm": {
     "name": "#%%\n"
    }
   }
  },
  {
   "cell_type": "markdown",
   "source": [
    "#### branch_other"
   ],
   "metadata": {
    "collapsed": false,
    "pycharm": {
     "name": "#%% md\n"
    }
   }
  },
  {
   "cell_type": "code",
   "execution_count": 335,
   "outputs": [],
   "source": [
    "# Changing yes/no to boolean:\n",
    "nyc_trees.branch_other = nyc_trees.branch_other.apply(lambda x: yes_no_to_bool(x))\n"
   ],
   "metadata": {
    "collapsed": false,
    "pycharm": {
     "name": "#%%\n"
    }
   }
  },
  {
   "cell_type": "code",
   "execution_count": 336,
   "outputs": [],
   "source": [],
   "metadata": {
    "collapsed": false,
    "pycharm": {
     "name": "#%%\n"
    }
   }
  },
  {
   "cell_type": "code",
   "execution_count": null,
   "outputs": [],
   "source": [],
   "metadata": {
    "collapsed": false,
    "pycharm": {
     "name": "#%%\n"
    }
   }
  }
 ],
 "metadata": {
  "kernelspec": {
   "name": "build_central",
   "language": "python",
   "display_name": "3_9"
  },
  "language_info": {
   "codemirror_mode": {
    "name": "ipython",
    "version": 2
   },
   "file_extension": ".py",
   "mimetype": "text/x-python",
   "name": "python",
   "nbconvert_exporter": "python",
   "pygments_lexer": "ipython2",
   "version": "2.7.6"
  }
 },
 "nbformat": 4,
 "nbformat_minor": 0
}