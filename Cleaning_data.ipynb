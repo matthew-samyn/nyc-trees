{
 "cells": [
  {
   "cell_type": "markdown",
   "metadata": {
    "collapsed": true,
    "pycharm": {
     "name": "#%% md\n"
    }
   },
   "source": [
    "#### Importing packages"
   ]
  },
  {
   "cell_type": "code",
   "source": [
    "import pandas as pd\n",
    "import numpy as np\n",
    "import seaborn as sns"
   ],
   "metadata": {
    "collapsed": false,
    "pycharm": {
     "name": "#%%\n"
    }
   },
   "execution_count": 161,
   "outputs": []
  },
  {
   "cell_type": "markdown",
   "source": [
    "#### Creating Dataframe\n"
   ],
   "metadata": {
    "collapsed": false
   }
  },
  {
   "cell_type": "code",
   "execution_count": 162,
   "outputs": [
    {
     "name": "stdout",
     "output_type": "stream",
     "text": [
      "created_at       0\n",
      "tree_id          0\n",
      "block_id         0\n",
      "the_geom         0\n",
      "tree_dbh         0\n",
      "stump_diam       0\n",
      "curb_loc         0\n",
      "status           0\n",
      "health        4993\n",
      "spc_latin     4992\n",
      "spc_common    4992\n",
      "steward       4992\n",
      "guards        4992\n",
      "sidewalk      4992\n",
      "user_type        0\n",
      "problems      4992\n",
      "root_stone       0\n",
      "root_grate       0\n",
      "root_other       0\n",
      "trnk_wire        0\n",
      "trnk_light       0\n",
      "trnk_other       0\n",
      "brnch_ligh       0\n",
      "brnch_shoe       0\n",
      "brnch_othe       0\n",
      "address          0\n",
      "zipcode          0\n",
      "zip_city         0\n",
      "cb_num           0\n",
      "borocode         0\n",
      "boroname         0\n",
      "cncldist         0\n",
      "st_assem         0\n",
      "st_senate        0\n",
      "nta              0\n",
      "nta_name         0\n",
      "boro_ct          0\n",
      "state            0\n",
      "latitude         0\n",
      "longitude        0\n",
      "x_sp             0\n",
      "y_sp             0\n",
      "dtype: int64\n",
      "created_at    datetime64[ns]\n",
      "tree_id                int64\n",
      "block_id               int64\n",
      "the_geom              object\n",
      "tree_dbh               int64\n",
      "stump_diam             int64\n",
      "curb_loc              object\n",
      "status                object\n",
      "health                object\n",
      "spc_latin             object\n",
      "spc_common            object\n",
      "steward               object\n",
      "guards                object\n",
      "sidewalk              object\n",
      "user_type             object\n",
      "problems              object\n",
      "root_stone            object\n",
      "root_grate            object\n",
      "root_other            object\n",
      "trnk_wire             object\n",
      "trnk_light            object\n",
      "trnk_other            object\n",
      "brnch_ligh            object\n",
      "brnch_shoe            object\n",
      "brnch_othe            object\n",
      "address               object\n",
      "zipcode                int64\n",
      "zip_city              object\n",
      "cb_num                 int64\n",
      "borocode               int64\n",
      "boroname              object\n",
      "cncldist               int64\n",
      "st_assem               int64\n",
      "st_senate              int64\n",
      "nta                   object\n",
      "nta_name              object\n",
      "boro_ct                int64\n",
      "state                 object\n",
      "latitude             float64\n",
      "longitude            float64\n",
      "x_sp                 float64\n",
      "y_sp                 float64\n",
      "dtype: object\n",
      "Index(['created_at', 'tree_id', 'block_id', 'the_geom', 'tree_dbh',\n",
      "       'stump_diam', 'curb_loc', 'status', 'health', 'spc_latin', 'spc_common',\n",
      "       'steward', 'guards', 'sidewalk', 'user_type', 'problems', 'root_stone',\n",
      "       'root_grate', 'root_other', 'trnk_wire', 'trnk_light', 'trnk_other',\n",
      "       'brnch_ligh', 'brnch_shoe', 'brnch_othe', 'address', 'zipcode',\n",
      "       'zip_city', 'cb_num', 'borocode', 'boroname', 'cncldist', 'st_assem',\n",
      "       'st_senate', 'nta', 'nta_name', 'boro_ct', 'state', 'latitude',\n",
      "       'longitude', 'x_sp', 'y_sp'],\n",
      "      dtype='object')\n"
     ]
    }
   ],
   "source": [
    "nyc_trees = pd.read_csv(\"original_data.csv\", parse_dates=[\"created_at\"])\n",
    "print(nyc_trees.isna().sum())\n",
    "print(nyc_trees.dtypes)\n",
    "print(nyc_trees.columns)"
   ],
   "metadata": {
    "collapsed": false,
    "pycharm": {
     "name": "#%%\n"
    }
   }
  },
  {
   "cell_type": "markdown",
   "source": [
    "### Exploring column by column\n",
    "#### tree_id\n"
   ],
   "metadata": {
    "collapsed": false,
    "pycharm": {
     "name": "#%% md\n"
    }
   }
  },
  {
   "cell_type": "code",
   "execution_count": 163,
   "outputs": [
    {
     "data": {
      "text/plain": "100000"
     },
     "execution_count": 163,
     "metadata": {},
     "output_type": "execute_result"
    }
   ],
   "source": [
    "len(nyc_trees.tree_id.unique())"
   ],
   "metadata": {
    "collapsed": false,
    "pycharm": {
     "name": "#%%\n"
    }
   }
  },
  {
   "cell_type": "markdown",
   "source": [
    "#### block_id\n"
   ],
   "metadata": {
    "collapsed": false,
    "pycharm": {
     "name": "#%% md\n"
    }
   }
  },
  {
   "cell_type": "code",
   "execution_count": 164,
   "outputs": [
    {
     "name": "stdout",
     "output_type": "stream",
     "text": [
      "19472\n",
      "False    15497\n",
      "True      3975\n",
      "dtype: int64\n"
     ]
    }
   ],
   "source": [
    "print((len(nyc_trees.block_id.unique())))\n",
    "nyc_trees_block_id = nyc_trees.drop_duplicates([\"block_id\",\"the_geom\"])\n",
    "print(nyc_trees_block_id.groupby(\"block_id\").size().eq(1).value_counts())\n",
    "# No complete match?"
   ],
   "metadata": {
    "collapsed": false,
    "pycharm": {
     "name": "#%%\n"
    }
   }
  },
  {
   "cell_type": "markdown",
   "source": [
    "#### the_geom"
   ],
   "metadata": {
    "collapsed": false,
    "pycharm": {
     "name": "#%% md\n"
    }
   }
  },
  {
   "cell_type": "code",
   "execution_count": 165,
   "outputs": [
    {
     "data": {
      "text/plain": "True    99962\ndtype: int64"
     },
     "execution_count": 165,
     "metadata": {},
     "output_type": "execute_result"
    }
   ],
   "source": [
    "nyc_trees_the_geom = nyc_trees.drop_duplicates([\"the_geom\", \"x_sp\", \"y_sp\"])\n",
    "nyc_trees_the_geom.groupby(\"the_geom\").size().eq(1).value_counts()"
   ],
   "metadata": {
    "collapsed": false,
    "pycharm": {
     "name": "#%%\n"
    }
   }
  },
  {
   "cell_type": "markdown",
   "source": [
    "#### tree_dbh"
   ],
   "metadata": {
    "collapsed": false,
    "pycharm": {
     "name": "#%% md\n"
    }
   }
  },
  {
   "cell_type": "code",
   "execution_count": 166,
   "outputs": [
    {
     "data": {
      "text/plain": "<Figure size 432x288 with 1 Axes>",
      "image/png": "[encoded data removed]"
     },
     "metadata": {
      "needs_background": "light"
     },
     "output_type": "display_data"
    }
   ],
   "source": [
    "# Changing column name\n",
    "nyc_trees.rename(columns={\"tree_dbh\":\"tree_diam[inch]\",\"stump_diam\":\"stump_diam[inch]\"},inplace=True)\n",
    "\n",
    "# Outliers in column to None\n",
    "sns.stripplot(data=nyc_trees, x=\"curb_loc\", y=\"tree_diam[inch]\", jitter=True)\n",
    "tree_dbh_lst = nyc_trees[nyc_trees[\"tree_diam[inch]\"] >= 80].index\n",
    "nyc_trees.loc[tree_dbh_lst, \"tree_diam[inch]\"] = None\n",
    "\n"
   ],
   "metadata": {
    "collapsed": false,
    "pycharm": {
     "name": "#%%\n"
    }
   }
  },
  {
   "cell_type": "markdown",
   "source": [
    "#### Changing tree_diam and stump_diam columns.\n",
    "* If stump, remove from tree_diam, replace with None\n",
    "* If tree, remove value from stump_diam, replace with None"
   ],
   "metadata": {
    "collapsed": false,
    "pycharm": {
     "name": "#%% md\n"
    }
   }
  },
  {
   "cell_type": "code",
   "source": [
    "nyc_trees.status.value_counts()\n",
    "stumps_lst = nyc_trees[nyc_trees[\"status\"] == \"Stump\"].index\n",
    "alive_lst = nyc_trees[nyc_trees[\"status\"] == \"Alive\"].index\n",
    "nyc_trees.loc[stumps_lst, \"tree_diam[inch]\"] = None\n",
    "nyc_trees.loc[alive_lst, \"stump_diam[inch]\"] = None"
   ],
   "metadata": {
    "collapsed": false,
    "pycharm": {
     "name": "#%%\n"
    }
   },
   "execution_count": 167,
   "outputs": []
  },
  {
   "cell_type": "markdown",
   "source": [
    "#### curb_loc"
   ],
   "metadata": {
    "collapsed": false,
    "pycharm": {
     "name": "#%% md\n"
    }
   }
  },
  {
   "cell_type": "code",
   "execution_count": 168,
   "outputs": [
    {
     "data": {
      "text/plain": "OnCurb            96129\nOffsetFromCurb     3871\nName: curb_loc, dtype: int64"
     },
     "execution_count": 168,
     "metadata": {},
     "output_type": "execute_result"
    }
   ],
   "source": [
    "# Should contain 2 categories\n",
    "nyc_trees.curb_loc.value_counts()"
   ],
   "metadata": {
    "collapsed": false,
    "pycharm": {
     "name": "#%%\n"
    }
   }
  },
  {
   "cell_type": "markdown",
   "source": [
    "#### status"
   ],
   "metadata": {
    "collapsed": false,
    "pycharm": {
     "name": "#%% md\n"
    }
   }
  },
  {
   "cell_type": "code",
   "execution_count": 169,
   "outputs": [
    {
     "data": {
      "text/plain": "Alive    95008\nStump     2831\nDead      2161\nName: status, dtype: int64"
     },
     "execution_count": 169,
     "metadata": {},
     "output_type": "execute_result"
    }
   ],
   "source": [
    "# Should contain 3 categories\n",
    "nyc_trees.status.value_counts()\n"
   ],
   "metadata": {
    "collapsed": false,
    "pycharm": {
     "name": "#%%\n"
    }
   }
  },
  {
   "cell_type": "markdown",
   "source": [
    "#### health"
   ],
   "metadata": {
    "collapsed": false,
    "pycharm": {
     "name": "#%% md\n"
    }
   }
  },
  {
   "cell_type": "code",
   "execution_count": 170,
   "outputs": [
    {
     "data": {
      "text/plain": "Good    72340\nFair    17266\nPoor     5401\nName: health, dtype: int64"
     },
     "execution_count": 170,
     "metadata": {},
     "output_type": "execute_result"
    }
   ],
   "source": [
    "# Should contain 3 categories.\n",
    "nyc_trees[\"health\"].value_counts()\n"
   ],
   "metadata": {
    "collapsed": false,
    "pycharm": {
     "name": "#%%\n"
    }
   }
  },
  {
   "cell_type": "markdown",
   "source": [
    "#### spc_latin - spc_common"
   ],
   "metadata": {
    "collapsed": false,
    "pycharm": {
     "name": "#%% md\n"
    }
   }
  },
  {
   "cell_type": "code",
   "execution_count": 171,
   "outputs": [
    {
     "name": "stdout",
     "output_type": "stream",
     "text": [
      "True    125\n",
      "dtype: int64\n"
     ]
    }
   ],
   "source": [
    "# Checking if these columns always compare\n",
    "species = nyc_trees.drop_duplicates([\"spc_latin\",\"spc_common\"])\n",
    "print(species.groupby(\"spc_latin\").size().eq(1).value_counts())\n"
   ],
   "metadata": {
    "collapsed": false,
    "pycharm": {
     "name": "#%%\n"
    }
   }
  },
  {
   "cell_type": "markdown",
   "source": [
    "#### steward"
   ],
   "metadata": {
    "collapsed": false,
    "pycharm": {
     "name": "#%% md\n"
    }
   }
  },
  {
   "cell_type": "code",
   "execution_count": 178,
   "outputs": [
    {
     "name": "stdout",
     "output_type": "stream",
     "text": [
      "90013    3.0\n",
      "94616    0.0\n",
      "52702    1.0\n",
      "64166    NaN\n",
      "86391    1.0\n",
      "55173    0.0\n",
      "73650    0.0\n",
      "82949    0.0\n",
      "17879    NaN\n",
      "40768    0.0\n",
      "17596    0.0\n",
      "16662    0.0\n",
      "35967    1.0\n",
      "13882    0.0\n",
      "87188    1.0\n",
      "64316    0.0\n",
      "4527     0.0\n",
      "94994    3.0\n",
      "17038    1.0\n",
      "85365    1.0\n",
      "64432    0.0\n",
      "42263    3.0\n",
      "11387    1.0\n",
      "50148    1.0\n",
      "62567    0.0\n",
      "16539    0.0\n",
      "41089    1.0\n",
      "51905    3.0\n",
      "78349    0.0\n",
      "15455    NaN\n",
      "Name: steward, dtype: float64\n",
      "46506    0.0\n",
      "23127    1.0\n",
      "78097    1.0\n",
      "88467    0.0\n",
      "19584    1.0\n",
      "76569    0.0\n",
      "55819    0.0\n",
      "1175     1.0\n",
      "68919    0.0\n",
      "1605     0.0\n",
      "65957    1.0\n",
      "36798    0.0\n",
      "38125    0.0\n",
      "84767    1.0\n",
      "86828    0.0\n",
      "34581    0.0\n",
      "36920    0.0\n",
      "12169    0.0\n",
      "12053    0.0\n",
      "77371    0.0\n",
      "12769    1.0\n",
      "67304    3.0\n",
      "52871    NaN\n",
      "43917    1.0\n",
      "44987    NaN\n",
      "11105    0.0\n",
      "43993    1.0\n",
      "49520    0.0\n",
      "6632     0.0\n",
      "27031    0.0\n",
      "Name: steward, dtype: float64\n"
     ]
    }
   ],
   "source": [
    "print(nyc_trees[\"steward\"].sample(30))\n",
    "\n",
    "# turning into int type\n",
    "def steward_int(word):\n",
    "    if word is None:\n",
    "        return np.nan\n",
    "    elif word == \"None\":\n",
    "        return 0\n",
    "    elif type(word) == float:\n",
    "        return word\n",
    "    else:\n",
    "        return int(word[0])\n",
    "\n",
    "nyc_trees[\"steward\"] = nyc_trees[\"steward\"].apply(lambda x: steward_int(x))\n",
    "print(nyc_trees[\"steward\"].sample(30))"
   ],
   "metadata": {
    "collapsed": false,
    "pycharm": {
     "name": "#%%\n"
    }
   }
  },
  {
   "cell_type": "markdown",
   "source": [
    "#### guards"
   ],
   "metadata": {
    "collapsed": false
   }
  },
  {
   "cell_type": "code",
   "execution_count": 179,
   "outputs": [
    {
     "name": "stdout",
     "output_type": "stream",
     "text": [
      "None       78958\n",
      "Helpful    10244\n",
      "Harmful     4552\n",
      "Unsure      1254\n",
      "Name: guards, dtype: int64\n"
     ]
    }
   ],
   "source": [
    "print(nyc_trees[\"guards\"].value_counts())\n",
    "# Clean the None for Unsure\n"
   ],
   "metadata": {
    "collapsed": false,
    "pycharm": {
     "name": "#%%\n"
    }
   }
  },
  {
   "cell_type": "code",
   "execution_count": null,
   "outputs": [],
   "source": [],
   "metadata": {
    "collapsed": false,
    "pycharm": {
     "name": "#%%\n"
    }
   }
  }
 ],
 "metadata": {
  "kernelspec": {
   "name": "build_central",
   "language": "python",
   "display_name": "3_9"
  },
  "language_info": {
   "codemirror_mode": {
    "name": "ipython",
    "version": 2
   },
   "file_extension": ".py",
   "mimetype": "text/x-python",
   "name": "python",
   "nbconvert_exporter": "python",
   "pygments_lexer": "ipython2",
   "version": "2.7.6"
  }
 },
 "nbformat": 4,
 "nbformat_minor": 0
}