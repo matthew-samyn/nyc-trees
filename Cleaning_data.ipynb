{
 "cells": [
  {
   "cell_type": "markdown",
   "metadata": {
    "collapsed": true,
    "pycharm": {
     "name": "#%% md\n"
    }
   },
   "source": [
    "#### Importing packages"
   ]
  },
  {
   "cell_type": "code",
   "source": [
    "import pandas as pd\n",
    "import seaborn as sns"
   ],
   "metadata": {
    "collapsed": false,
    "pycharm": {
     "name": "#%%\n"
    }
   },
   "execution_count": 605,
   "outputs": []
  },
  {
   "cell_type": "markdown",
   "source": [
    "#### Creating Dataframe"
   ],
   "metadata": {
    "collapsed": false
   }
  },
  {
   "cell_type": "code",
   "execution_count": 606,
   "outputs": [
    {
     "name": "stdout",
     "output_type": "stream",
     "text": [
      "tree_id                 0\n",
      "block_id                0\n",
      "created_at              0\n",
      "tree_dbh                0\n",
      "stump_diam              0\n",
      "curb_loc                0\n",
      "status                  0\n",
      "health              31616\n",
      "spc_latin           31619\n",
      "spc_common          31619\n",
      "steward             31615\n",
      "guards              31616\n",
      "sidewalk            31616\n",
      "user_type               0\n",
      "problems            31664\n",
      "root_stone              0\n",
      "root_grate              0\n",
      "root_other              0\n",
      "trunk_wire              0\n",
      "trnk_light              0\n",
      "trnk_other              0\n",
      "brch_light              0\n",
      "brch_shoe               0\n",
      "brch_other              0\n",
      "address                 0\n",
      "postcode                0\n",
      "zip_city                0\n",
      "community board         0\n",
      "borocode                0\n",
      "borough                 0\n",
      "cncldist                0\n",
      "st_assem                0\n",
      "st_senate               0\n",
      "nta                     0\n",
      "nta_name                0\n",
      "boro_ct                 0\n",
      "state                   0\n",
      "latitude                0\n",
      "longitude               0\n",
      "x_sp                    0\n",
      "y_sp                    0\n",
      "council district     6519\n",
      "census tract         6519\n",
      "bin                  9559\n",
      "bbl                  9559\n",
      "dtype: int64\n",
      "tree_id                      int64\n",
      "block_id                     int64\n",
      "created_at          datetime64[ns]\n",
      "tree_dbh                     int64\n",
      "stump_diam                   int64\n",
      "curb_loc                    object\n",
      "status                      object\n",
      "health                      object\n",
      "spc_latin                   object\n",
      "spc_common                  object\n",
      "steward                     object\n",
      "guards                      object\n",
      "sidewalk                    object\n",
      "user_type                   object\n",
      "problems                    object\n",
      "root_stone                  object\n",
      "root_grate                  object\n",
      "root_other                  object\n",
      "trunk_wire                  object\n",
      "trnk_light                  object\n",
      "trnk_other                  object\n",
      "brch_light                  object\n",
      "brch_shoe                   object\n",
      "brch_other                  object\n",
      "address                     object\n",
      "postcode                     int64\n",
      "zip_city                    object\n",
      "community board              int64\n",
      "borocode                     int64\n",
      "borough                     object\n",
      "cncldist                     int64\n",
      "st_assem                     int64\n",
      "st_senate                    int64\n",
      "nta                         object\n",
      "nta_name                    object\n",
      "boro_ct                      int64\n",
      "state                       object\n",
      "latitude                   float64\n",
      "longitude                  float64\n",
      "x_sp                       float64\n",
      "y_sp                       float64\n",
      "council district           float64\n",
      "census tract               float64\n",
      "bin                        float64\n",
      "bbl                        float64\n",
      "dtype: object\n",
      "Index(['tree_id', 'block_id', 'created_at', 'tree_dbh', 'stump_diam',\n",
      "       'curb_loc', 'status', 'health', 'spc_latin', 'spc_common', 'steward',\n",
      "       'guards', 'sidewalk', 'user_type', 'problems', 'root_stone',\n",
      "       'root_grate', 'root_other', 'trunk_wire', 'trnk_light', 'trnk_other',\n",
      "       'brch_light', 'brch_shoe', 'brch_other', 'address', 'postcode',\n",
      "       'zip_city', 'community board', 'borocode', 'borough', 'cncldist',\n",
      "       'st_assem', 'st_senate', 'nta', 'nta_name', 'boro_ct', 'state',\n",
      "       'latitude', 'longitude', 'x_sp', 'y_sp', 'council district',\n",
      "       'census tract', 'bin', 'bbl'],\n",
      "      dtype='object')\n"
     ]
    }
   ],
   "source": [
    "nyc_trees = pd.read_csv(\"2015_Street_Tree_Census_-_Tree_Data.csv\", parse_dates=[\"created_at\"])\n",
    "print(nyc_trees.isna().sum())\n",
    "print(nyc_trees.dtypes)\n",
    "print(nyc_trees.columns)\n",
    "nyc_trees.drop_duplicates(inplace=True)"
   ],
   "metadata": {
    "collapsed": false,
    "pycharm": {
     "name": "#%%\n"
    }
   }
  },
  {
   "cell_type": "markdown",
   "source": [
    "#### Removing columns wich are useless for Machine Learning"
   ],
   "metadata": {
    "collapsed": false
   }
  },
  {
   "cell_type": "code",
   "execution_count": 607,
   "outputs": [],
   "source": [
    "nyc_trees.drop(columns=[\"block_id\",\"tree_id\", \"spc_common\", \"problems\",\"borocode\",\"cncldist\",\"community board\",\"st_assem\",\"st_senate\",\"boro_ct\",\"state\",\"council district\",\"census tract\",\"bin\",\"bbl\"], axis=1, inplace=True)"
   ],
   "metadata": {
    "collapsed": false,
    "pycharm": {
     "name": "#%%\n"
    }
   }
  },
  {
   "cell_type": "markdown",
   "source": [
    "#### Checking out NaN's"
   ],
   "metadata": {
    "collapsed": false,
    "pycharm": {
     "name": "#%% md\n"
    }
   }
  },
  {
   "cell_type": "code",
   "execution_count": 608,
   "outputs": [],
   "source": [
    "nan = nyc_trees[nyc_trees[\"health\"].isna() == True]\n",
    "nan = nan.drop_duplicates([\"health\",\"spc_latin\"])\n"
   ],
   "metadata": {
    "collapsed": false,
    "pycharm": {
     "name": "#%%\n"
    }
   }
  },
  {
   "cell_type": "markdown",
   "source": [
    "### Exploring column by column\n"
   ],
   "metadata": {
    "collapsed": false,
    "pycharm": {
     "name": "#%% md\n"
    }
   }
  },
  {
   "cell_type": "markdown",
   "source": [
    "#### tree_dbh"
   ],
   "metadata": {
    "collapsed": false,
    "pycharm": {
     "name": "#%% md\n"
    }
   }
  },
  {
   "cell_type": "code",
   "execution_count": 609,
   "outputs": [
    {
     "data": {
      "text/plain": "<Figure size 432x288 with 1 Axes>",
      "image/png": "[encoded data removed]"
     },
     "metadata": {
      "needs_background": "light"
     },
     "output_type": "display_data"
    }
   ],
   "source": [
    "# Changing column name\n",
    "nyc_trees.rename(columns={\"tree_dbh\":\"tree_diam[inch]\",\"stump_diam\":\"stump_diam[inch]\"},inplace=True)\n",
    "\n",
    "# Outliers in column to None\n",
    "sns.stripplot(data=nyc_trees, x=\"curb_loc\", y=\"tree_diam[inch]\", jitter=True)\n",
    "tree_dbh_lst = nyc_trees[nyc_trees[\"tree_diam[inch]\"] >= 80].index\n",
    "nyc_trees.loc[tree_dbh_lst, \"tree_diam[inch]\"] = None\n",
    "\n"
   ],
   "metadata": {
    "collapsed": false,
    "pycharm": {
     "name": "#%%\n"
    }
   }
  },
  {
   "cell_type": "markdown",
   "source": [
    "#### Changing tree_diam and stump_diam columns.\n",
    "* If stump, remove from tree_diam, replace with None\n",
    "* If tree, remove value from stump_diam, replace with None"
   ],
   "metadata": {
    "collapsed": false,
    "pycharm": {
     "name": "#%% md\n"
    }
   }
  },
  {
   "cell_type": "code",
   "source": [
    "nyc_trees.status.value_counts()\n",
    "stumps_lst = nyc_trees[nyc_trees[\"status\"] == \"Stump\"].index\n",
    "alive_lst = nyc_trees[nyc_trees[\"status\"] == \"Alive\"].index\n",
    "nyc_trees.loc[stumps_lst, \"tree_diam[inch]\"] = None\n",
    "nyc_trees.loc[alive_lst, \"stump_diam[inch]\"] = None\n",
    "\n",
    "# Replacing 0's in stump_diam with None\n",
    "def zero_to_none(x:float):\n",
    "    if x == 0:\n",
    "        return None\n",
    "    else:\n",
    "        return x\n",
    "\n",
    "nyc_trees[\"stump_diam[inch]\"] = nyc_trees[\"stump_diam[inch]\"].apply(lambda x: zero_to_none(x))"
   ],
   "metadata": {
    "collapsed": false,
    "pycharm": {
     "name": "#%%\n"
    }
   },
   "execution_count": 610,
   "outputs": []
  },
  {
   "cell_type": "markdown",
   "source": [
    "#### curb_loc"
   ],
   "metadata": {
    "collapsed": false,
    "pycharm": {
     "name": "#%% md\n"
    }
   }
  },
  {
   "cell_type": "code",
   "execution_count": 611,
   "outputs": [
    {
     "data": {
      "text/plain": "OnCurb            656896\nOffsetFromCurb     26892\nName: curb_loc, dtype: int64"
     },
     "execution_count": 611,
     "metadata": {},
     "output_type": "execute_result"
    }
   ],
   "source": [
    "# Should contain 2 categories\n",
    "nyc_trees.curb_loc.value_counts()"
   ],
   "metadata": {
    "collapsed": false,
    "pycharm": {
     "name": "#%%\n"
    }
   }
  },
  {
   "cell_type": "markdown",
   "source": [
    "#### status"
   ],
   "metadata": {
    "collapsed": false,
    "pycharm": {
     "name": "#%% md\n"
    }
   }
  },
  {
   "cell_type": "code",
   "execution_count": 612,
   "outputs": [
    {
     "data": {
      "text/plain": "Alive    652173\nStump     17654\nDead      13961\nName: status, dtype: int64"
     },
     "execution_count": 612,
     "metadata": {},
     "output_type": "execute_result"
    }
   ],
   "source": [
    "# Should contain 3 categories\n",
    "nyc_trees.status.value_counts()\n"
   ],
   "metadata": {
    "collapsed": false,
    "pycharm": {
     "name": "#%%\n"
    }
   }
  },
  {
   "cell_type": "markdown",
   "source": [
    "#### health"
   ],
   "metadata": {
    "collapsed": false,
    "pycharm": {
     "name": "#%% md\n"
    }
   }
  },
  {
   "cell_type": "code",
   "execution_count": 613,
   "outputs": [
    {
     "data": {
      "text/plain": "Good    528850\nFair     96504\nPoor     26818\nName: health, dtype: int64"
     },
     "execution_count": 613,
     "metadata": {},
     "output_type": "execute_result"
    }
   ],
   "source": [
    "# Should contain 3 categories.\n",
    "nyc_trees[\"health\"].value_counts()\n"
   ],
   "metadata": {
    "collapsed": false,
    "pycharm": {
     "name": "#%%\n"
    }
   }
  },
  {
   "cell_type": "markdown",
   "source": [
    "#### spc_latin - spc_common"
   ],
   "metadata": {
    "collapsed": false,
    "pycharm": {
     "name": "#%% md\n"
    }
   }
  },
  {
   "cell_type": "code",
   "execution_count": 614,
   "outputs": [
    {
     "name": "stdout",
     "output_type": "stream",
     "text": [
      "Platanus x acerifolia                 87014\n",
      "Gleditsia triacanthos var. inermis    64264\n",
      "Pyrus calleryana                      58931\n",
      "Quercus palustris                     53185\n",
      "Acer platanoides                      34189\n",
      "                                      ...  \n",
      "Pinus nigra                              37\n",
      "Pinus rigida                             33\n",
      "Maclura pomifera                         29\n",
      "Pinus sylvestris                         25\n",
      "Pinus virginiana                         10\n",
      "Name: spc_latin, Length: 132, dtype: int64\n"
     ]
    }
   ],
   "source": [
    "# Checking if these columns always compare\n",
    "print(nyc_trees.spc_latin.value_counts())"
   ],
   "metadata": {
    "collapsed": false,
    "pycharm": {
     "name": "#%%\n"
    }
   }
  },
  {
   "cell_type": "markdown",
   "source": [
    "#### steward"
   ],
   "metadata": {
    "collapsed": false,
    "pycharm": {
     "name": "#%% md\n"
    }
   }
  },
  {
   "cell_type": "code",
   "execution_count": 615,
   "outputs": [
    {
     "name": "stdout",
     "output_type": "stream",
     "text": [
      "429860    None\n",
      "476932    None\n",
      "277587    None\n",
      "13808     None\n",
      "538519    None\n",
      "610892     NaN\n",
      "571139    None\n",
      "468402    None\n",
      "474798    1or2\n",
      "270367    1or2\n",
      "105314    None\n",
      "567844    None\n",
      "269824    None\n",
      "81211     None\n",
      "283899    None\n",
      "543916    None\n",
      "118087    1or2\n",
      "338621    None\n",
      "238881    None\n",
      "279668    None\n",
      "359490    1or2\n",
      "49185     None\n",
      "154395    None\n",
      "465151     NaN\n",
      "632210    None\n",
      "247000    None\n",
      "409421    None\n",
      "425927    None\n",
      "35892     None\n",
      "224335    None\n",
      "Name: steward, dtype: object\n",
      "219007    0.0\n",
      "231079    0.0\n",
      "102585    1.0\n",
      "140259    0.0\n",
      "186929    0.0\n",
      "193367    0.0\n",
      "269707    0.0\n",
      "277763    0.0\n",
      "461662    0.0\n",
      "599339    1.0\n",
      "292708    0.0\n",
      "401480    0.0\n",
      "516134    1.0\n",
      "437047    0.0\n",
      "449171    1.0\n",
      "320639    0.0\n",
      "252060    0.0\n",
      "562353    1.0\n",
      "253218    0.0\n",
      "18539     0.0\n",
      "84229     0.0\n",
      "412889    0.0\n",
      "174088    1.0\n",
      "569114    0.0\n",
      "218511    0.0\n",
      "319936    1.0\n",
      "518840    0.0\n",
      "445182    1.0\n",
      "647946    1.0\n",
      "632969    1.0\n",
      "Name: steward, dtype: float64\n"
     ]
    }
   ],
   "source": [
    "print(nyc_trees[\"steward\"].sample(30))\n",
    "\n",
    "# turning into int type\n",
    "def steward_int(word):\n",
    "    if word is None:\n",
    "        return None\n",
    "    elif word == \"None\":\n",
    "        return 0\n",
    "    elif type(word) == float:\n",
    "        return word\n",
    "    else:\n",
    "        return int(word[0])\n",
    "\n",
    "nyc_trees[\"steward\"] = nyc_trees[\"steward\"].apply(lambda x: steward_int(x))\n",
    "print(nyc_trees[\"steward\"].sample(30))"
   ],
   "metadata": {
    "collapsed": false,
    "pycharm": {
     "name": "#%%\n"
    }
   }
  },
  {
   "cell_type": "markdown",
   "source": [
    "#### guards"
   ],
   "metadata": {
    "collapsed": false
   }
  },
  {
   "cell_type": "code",
   "execution_count": 616,
   "outputs": [
    {
     "name": "stdout",
     "output_type": "stream",
     "text": [
      "None       572306\n",
      "Helpful     51866\n",
      "Harmful     20252\n",
      "Unsure       7748\n",
      "Name: guards, dtype: int64\n"
     ]
    }
   ],
   "source": [
    "print(nyc_trees[\"guards\"].value_counts())"
   ],
   "metadata": {
    "collapsed": false,
    "pycharm": {
     "name": "#%%\n"
    }
   }
  },
  {
   "cell_type": "code",
   "execution_count": 617,
   "outputs": [],
   "source": [
    "# Clean the None for Unsure\n",
    "def guards_cleaning(dead_or_alive:str, guards:str):\n",
    "    if guards == \"None\" and dead_or_alive == \"Alive\":\n",
    "        return \"Unsure\"\n",
    "    else:\n",
    "        return guards\n",
    "\n",
    "nyc_trees[\"guards\"] = nyc_trees.apply(lambda row: guards_cleaning(row[\"status\"],row[\"guards\"]), axis=1)\n"
   ],
   "metadata": {
    "collapsed": false,
    "pycharm": {
     "name": "#%%\n"
    }
   }
  },
  {
   "cell_type": "code",
   "execution_count": 618,
   "outputs": [
    {
     "name": "stdout",
     "output_type": "stream",
     "text": [
      "Index(['created_at', 'tree_diam[inch]', 'stump_diam[inch]', 'curb_loc',\n",
      "       'status', 'health', 'spc_latin', 'steward', 'guards', 'sidewalk',\n",
      "       'user_type', 'root_stone', 'root_grate', 'root_other', 'trunk_wire',\n",
      "       'trnk_light', 'trnk_other', 'brch_light', 'brch_shoe', 'brch_other',\n",
      "       'address', 'postcode', 'zip_city', 'borough', 'nta', 'nta_name',\n",
      "       'latitude', 'longitude', 'x_sp', 'y_sp'],\n",
      "      dtype='object')\n"
     ]
    }
   ],
   "source": [
    "print(nyc_trees.columns)\n"
   ],
   "metadata": {
    "collapsed": false,
    "pycharm": {
     "name": "#%%\n"
    }
   }
  },
  {
   "cell_type": "markdown",
   "source": [
    "#### sidewalk"
   ],
   "metadata": {
    "collapsed": false,
    "pycharm": {
     "name": "#%% md\n"
    }
   }
  },
  {
   "cell_type": "code",
   "execution_count": 619,
   "outputs": [
    {
     "data": {
      "text/plain": "False    496594\nTrue     187194\nName: sidewalk_damaged, dtype: int64"
     },
     "execution_count": 619,
     "metadata": {},
     "output_type": "execute_result"
    }
   ],
   "source": [
    "# Changing column name to sidewalk_damaged\n",
    "nyc_trees = nyc_trees.rename(columns={\"sidewalk\":\"sidewalk_damaged\"})\n",
    "\n",
    "# Changing values to boolean\n",
    "def sidewalk_bool(word):\n",
    "    if word == \"Damage\":\n",
    "        return True\n",
    "    else:\n",
    "        return False\n",
    "\n",
    "nyc_trees[\"sidewalk_damaged\"] = nyc_trees[\"sidewalk_damaged\"].apply(lambda x: sidewalk_bool(x))\n",
    "nyc_trees.sidewalk_damaged.value_counts()"
   ],
   "metadata": {
    "collapsed": false,
    "pycharm": {
     "name": "#%%\n"
    }
   }
  },
  {
   "cell_type": "markdown",
   "source": [
    "#### user_type"
   ],
   "metadata": {
    "collapsed": false,
    "pycharm": {
     "name": "#%% md\n"
    }
   }
  },
  {
   "cell_type": "code",
   "execution_count": 620,
   "outputs": [
    {
     "data": {
      "text/plain": "TreesCount Staff    296284\nVolunteer           217518\nNYC Parks Staff     169986\nName: user_type, dtype: int64"
     },
     "execution_count": 620,
     "metadata": {},
     "output_type": "execute_result"
    }
   ],
   "source": [
    "nyc_trees.user_type.value_counts()"
   ],
   "metadata": {
    "collapsed": false,
    "pycharm": {
     "name": "#%%\n"
    }
   }
  },
  {
   "cell_type": "markdown",
   "source": [
    "#### root_stone"
   ],
   "metadata": {
    "collapsed": false,
    "pycharm": {
     "name": "#%% md\n"
    }
   }
  },
  {
   "cell_type": "code",
   "execution_count": 621,
   "outputs": [],
   "source": [
    "# Function to change yes/no to True/False\n",
    "def yes_no_to_bool(yn:str):\n",
    "    yn = yn.lower()\n",
    "    if yn == \"yes\":\n",
    "        return True\n",
    "    elif yn == \"no\":\n",
    "        return False\n",
    "\n",
    "# Changing yes/no to boolean:\n",
    "nyc_trees.root_stone = nyc_trees.root_stone.apply(lambda x: yes_no_to_bool(x))"
   ],
   "metadata": {
    "collapsed": false,
    "pycharm": {
     "name": "#%%\n"
    }
   }
  },
  {
   "cell_type": "markdown",
   "source": [
    "#### root_grate"
   ],
   "metadata": {
    "collapsed": false,
    "pycharm": {
     "name": "#%% md\n"
    }
   }
  },
  {
   "cell_type": "code",
   "execution_count": 622,
   "outputs": [],
   "source": [
    "# Changing yes/no to boolean:\n",
    "nyc_trees.root_grate = nyc_trees.root_grate.apply(lambda x: yes_no_to_bool(x))"
   ],
   "metadata": {
    "collapsed": false,
    "pycharm": {
     "name": "#%%\n"
    }
   }
  },
  {
   "cell_type": "markdown",
   "source": [
    "#### root_other\n"
   ],
   "metadata": {
    "collapsed": false,
    "pycharm": {
     "name": "#%% md\n"
    }
   }
  },
  {
   "cell_type": "code",
   "execution_count": 623,
   "outputs": [],
   "source": [
    "# Changing yes/no to boolean:\n",
    "nyc_trees.root_other = nyc_trees.root_other.apply(lambda x: yes_no_to_bool(x))"
   ],
   "metadata": {
    "collapsed": false,
    "pycharm": {
     "name": "#%%\n"
    }
   }
  },
  {
   "cell_type": "markdown",
   "source": [
    "#### Changing columns names: all trnk_ columns with trunk_"
   ],
   "metadata": {
    "collapsed": false,
    "pycharm": {
     "name": "#%% md\n"
    }
   }
  },
  {
   "cell_type": "code",
   "execution_count": 624,
   "outputs": [],
   "source": [
    "nyc_trees = nyc_trees.rename(columns={\"trnk_wire\":\"trunk_wire\", \"trnk_light\":\"trunk_light\",\"trnk_other\":\"trunk_other\"})"
   ],
   "metadata": {
    "collapsed": false,
    "pycharm": {
     "name": "#%%\n"
    }
   }
  },
  {
   "cell_type": "markdown",
   "source": [
    "#### trunk_wire"
   ],
   "metadata": {
    "collapsed": false,
    "pycharm": {
     "name": "#%% md\n"
    }
   }
  },
  {
   "cell_type": "code",
   "execution_count": 625,
   "outputs": [],
   "source": [
    "# Changing yes/no to boolean:\n",
    "nyc_trees.trunk_wire = nyc_trees.trunk_wire.apply(lambda x: yes_no_to_bool(x))"
   ],
   "metadata": {
    "collapsed": false,
    "pycharm": {
     "name": "#%%\n"
    }
   }
  },
  {
   "cell_type": "markdown",
   "source": [
    "#### trunk_light"
   ],
   "metadata": {
    "collapsed": false,
    "pycharm": {
     "name": "#%% md\n"
    }
   }
  },
  {
   "cell_type": "code",
   "execution_count": 626,
   "outputs": [],
   "source": [
    "# Changing yes/no to boolean:\n",
    "nyc_trees.trunk_light = nyc_trees.trunk_light.apply(lambda x: yes_no_to_bool(x))"
   ],
   "metadata": {
    "collapsed": false,
    "pycharm": {
     "name": "#%%\n"
    }
   }
  },
  {
   "cell_type": "markdown",
   "source": [
    "#### trunk_other"
   ],
   "metadata": {
    "collapsed": false,
    "pycharm": {
     "name": "#%% md\n"
    }
   }
  },
  {
   "cell_type": "code",
   "execution_count": 627,
   "outputs": [],
   "source": [
    "# Changing yes/no to boolean:\n",
    "nyc_trees.trunk_other = nyc_trees.trunk_other.apply(lambda x: yes_no_to_bool(x))"
   ],
   "metadata": {
    "collapsed": false,
    "pycharm": {
     "name": "#%%\n"
    }
   }
  },
  {
   "cell_type": "markdown",
   "source": [
    "#### Changing columns names: all trnk_ columns with trunk_"
   ],
   "metadata": {
    "collapsed": false,
    "pycharm": {
     "name": "#%% md\n"
    }
   }
  },
  {
   "cell_type": "code",
   "execution_count": 628,
   "outputs": [],
   "source": [
    "nyc_trees = nyc_trees.rename(columns={\"brch_light\":\"branch_light\",\"brch_shoe\":\"branch_shoe\",\"brch_other\":\"branch_other\"})"
   ],
   "metadata": {
    "collapsed": false,
    "pycharm": {
     "name": "#%%\n"
    }
   }
  },
  {
   "cell_type": "markdown",
   "source": [
    "#### branch_light"
   ],
   "metadata": {
    "collapsed": false,
    "pycharm": {
     "name": "#%% md\n"
    }
   }
  },
  {
   "cell_type": "code",
   "execution_count": 629,
   "outputs": [],
   "source": [
    "# Changing yes/no to boolean:\n",
    "nyc_trees.branch_light = nyc_trees.branch_light.apply(lambda x: yes_no_to_bool(x))"
   ],
   "metadata": {
    "collapsed": false,
    "pycharm": {
     "name": "#%%\n"
    }
   }
  },
  {
   "cell_type": "markdown",
   "source": [
    "#### branch_shoe"
   ],
   "metadata": {
    "collapsed": false,
    "pycharm": {
     "name": "#%% md\n"
    }
   }
  },
  {
   "cell_type": "code",
   "execution_count": 630,
   "outputs": [],
   "source": [
    "# Changing yes/no to boolean:\n",
    "nyc_trees.branch_shoe = nyc_trees.branch_shoe.apply(lambda x: yes_no_to_bool(x))"
   ],
   "metadata": {
    "collapsed": false,
    "pycharm": {
     "name": "#%%\n"
    }
   }
  },
  {
   "cell_type": "markdown",
   "source": [
    "#### branch_other"
   ],
   "metadata": {
    "collapsed": false,
    "pycharm": {
     "name": "#%% md\n"
    }
   }
  },
  {
   "cell_type": "code",
   "execution_count": 631,
   "outputs": [],
   "source": [
    "# Changing yes/no to boolean:\n",
    "nyc_trees.branch_other = nyc_trees.branch_other.apply(lambda x: yes_no_to_bool(x))\n"
   ],
   "metadata": {
    "collapsed": false,
    "pycharm": {
     "name": "#%%\n"
    }
   }
  },
  {
   "cell_type": "code",
   "execution_count": 632,
   "outputs": [],
   "source": [
    "nyc_trees = nyc_trees.reset_index(drop=True)\n",
    "nyc_trees.head(324000).to_csv(\"final.csv\")"
   ],
   "metadata": {
    "collapsed": false,
    "pycharm": {
     "name": "#%%\n"
    }
   }
  },
  {
   "cell_type": "code",
   "execution_count": 633,
   "outputs": [
    {
     "name": "stdout",
     "output_type": "stream",
     "text": [
      "(683788, 30)\n",
      "  created_at  tree_diam[inch]  stump_diam[inch] curb_loc status health  \\\n",
      "0 2015-08-27              3.0               NaN   OnCurb  Alive   Fair   \n",
      "1 2015-09-03             21.0               NaN   OnCurb  Alive   Fair   \n",
      "2 2015-09-05              3.0               NaN   OnCurb  Alive   Good   \n",
      "3 2015-09-05             10.0               NaN   OnCurb  Alive   Good   \n",
      "4 2015-08-30             21.0               NaN   OnCurb  Alive   Good   \n",
      "\n",
      "                            spc_latin  steward  guards  sidewalk_damaged  ...  \\\n",
      "0                         Acer rubrum      0.0  Unsure             False  ...   \n",
      "1                   Quercus palustris      0.0  Unsure              True  ...   \n",
      "2  Gleditsia triacanthos var. inermis      1.0  Unsure              True  ...   \n",
      "3  Gleditsia triacanthos var. inermis      0.0  Unsure              True  ...   \n",
      "4                     Tilia americana      0.0  Unsure              True  ...   \n",
      "\n",
      "             address  postcode      zip_city   borough   nta  \\\n",
      "0  108-005 70 AVENUE     11375  Forest Hills    Queens  QN17   \n",
      "1   147-074 7 AVENUE     11357    Whitestone    Queens  QN49   \n",
      "2  390 MORGAN AVENUE     11211      Brooklyn  Brooklyn  BK90   \n",
      "3  1027 GRAND STREET     11211      Brooklyn  Brooklyn  BK90   \n",
      "4       603 6 STREET     11215      Brooklyn  Brooklyn  BK37   \n",
      "\n",
      "             nta_name   latitude  longitude         x_sp         y_sp  \n",
      "0        Forest Hills  40.723092 -73.844215  1027431.148  202756.7687  \n",
      "1          Whitestone  40.794111 -73.818679  1034455.701  228644.8374  \n",
      "2   East Williamsburg  40.717581 -73.936608  1001822.831  200716.8913  \n",
      "3   East Williamsburg  40.713537 -73.934456  1002420.358  199244.2531  \n",
      "4  Park Slope-Gowanus  40.666778 -73.975979   990913.775  182202.4260  \n",
      "\n",
      "[5 rows x 30 columns]\n",
      "created_at          datetime64[ns]\n",
      "tree_diam[inch]            float64\n",
      "stump_diam[inch]           float64\n",
      "curb_loc                    object\n",
      "status                      object\n",
      "health                      object\n",
      "spc_latin                   object\n",
      "steward                    float64\n",
      "guards                      object\n",
      "sidewalk_damaged              bool\n",
      "user_type                   object\n",
      "root_stone                    bool\n",
      "root_grate                    bool\n",
      "root_other                    bool\n",
      "trunk_wire                    bool\n",
      "trunk_light                   bool\n",
      "trunk_other                   bool\n",
      "branch_light                  bool\n",
      "branch_shoe                   bool\n",
      "branch_other                  bool\n",
      "address                     object\n",
      "postcode                     int64\n",
      "zip_city                    object\n",
      "borough                     object\n",
      "nta                         object\n",
      "nta_name                    object\n",
      "latitude                   float64\n",
      "longitude                  float64\n",
      "x_sp                       float64\n",
      "y_sp                       float64\n",
      "dtype: object\n"
     ]
    }
   ],
   "source": [
    "print(nyc_trees.shape)\n",
    "print(nyc_trees.head())\n",
    "print(nyc_trees.dtypes)\n"
   ],
   "metadata": {
    "collapsed": false,
    "pycharm": {
     "name": "#%%\n"
    }
   }
  }
 ],
 "metadata": {
  "kernelspec": {
   "name": "build_central",
   "language": "python",
   "display_name": "3_9"
  },
  "language_info": {
   "codemirror_mode": {
    "name": "ipython",
    "version": 2
   },
   "file_extension": ".py",
   "mimetype": "text/x-python",
   "name": "python",
   "nbconvert_exporter": "python",
   "pygments_lexer": "ipython2",
   "version": "2.7.6"
  }
 },
 "nbformat": 4,
 "nbformat_minor": 0
}